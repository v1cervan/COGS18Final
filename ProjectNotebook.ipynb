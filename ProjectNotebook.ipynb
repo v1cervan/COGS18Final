{
 "cells": [
  {
   "cell_type": "markdown",
   "metadata": {},
   "source": [
    "# Cogs 18 Final Project\n",
    "    This project is an extended version of the chatbot from Assignment 3. It is called a 'JokeBot' that only sends knock-knock jokes, responds to certain greetings, does not like exclamation marks, and does not like certain questions. For future modifications, I would like to add additional jokes that it may respond to/send out as well as have a function that allows people to use emojis when chatting with the JokeBot.\n",
    "    \n",
    "    Where assignment 3 originally had 'OUTPUT: ', There is now 'JokeBot: ', with a colored background and a robot emoji. Input also now states 'YOU SAY: ' with a typing emoji instead of 'INPUT: '. Both the inputs and outputs consist of a purple colored bold font and emojis derived using unicode. The links to the source code that were slightly modified are included in the citations markdown. The JokeBot runs under the function 'lets_get_punny'. \n",
    "    \n",
    "    Hope you like it!"
   ]
  },
  {
   "cell_type": "markdown",
   "metadata": {},
   "source": [
    "### Citations\n",
    "    Assignment 3\n",
    "    https://www.geeksforgeeks.org/python-program-to-print-emojis/\n",
    "    http://www.unicode.org/emoji/charts/full-emoji-list.html#1f604\n",
    "    https://www.instructables.com/id/Printing-Colored-Text-in-Python-Without-Any-Module/"
   ]
  },
  {
   "cell_type": "code",
   "execution_count": null,
   "metadata": {},
   "outputs": [],
   "source": [
    "from my_module.functions import(purple_background_color, blue_text_color, unicode_emoji, is_question, \n",
    "                                how_question, is_screaming, remove_punctuation, whos_there, joke_reply, \n",
    "                                prepare_text, prepare_text2, prepare_text3, respond_echo, selector, \n",
    "                                string_concatenator, list_to_string, end_chat, is_in_list, find_in_list, \n",
    "                                joke_reply_2, lets_get_punny)"
   ]
  },
  {
   "cell_type": "code",
   "execution_count": null,
   "metadata": {},
   "outputs": [],
   "source": [
    "lets_get_punny()"
   ]
  }
 ],
 "metadata": {
  "kernelspec": {
   "display_name": "Python 3",
   "language": "python",
   "name": "python3"
  },
  "language_info": {
   "codemirror_mode": {
    "name": "ipython",
    "version": 3
   },
   "file_extension": ".py",
   "mimetype": "text/x-python",
   "name": "python",
   "nbconvert_exporter": "python",
   "pygments_lexer": "ipython3",
   "version": "3.7.1"
  }
 },
 "nbformat": 4,
 "nbformat_minor": 2
}
